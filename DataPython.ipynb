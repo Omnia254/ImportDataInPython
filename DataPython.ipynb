{
 "cells": [
  {
   "cell_type": "code",
   "execution_count": 3,
   "id": "18960ba7",
   "metadata": {},
   "outputs": [
    {
     "name": "stdout",
     "output_type": "stream",
     "text": [
      "Country/Region\n",
      "Mainland China\n",
      "Japan\n",
      "Singapore\n",
      "Hong Kong\n",
      "Japan\n",
      "Thailand\n",
      "South Korea\n",
      "Malaysia\n",
      "Taiwan\n",
      "Germany\n",
      "Vietnam\n",
      "France\n",
      "Macau\n",
      "UK\n",
      "United Arab Emirates\n",
      "US\n",
      "Australia\n"
     ]
    }
   ],
   "source": [
    "with open('sample.txt','r') as reader:\n",
    "#Read & print the entire file\n",
    "   print(reader.read())"
   ]
  },
  {
   "cell_type": "code",
   "execution_count": 4,
   "id": "5002d096",
   "metadata": {},
   "outputs": [
    {
     "name": "stdout",
     "output_type": "stream",
     "text": [
      "Count\n"
     ]
    }
   ],
   "source": [
    "with open('sample.txt','r') as reader:\n",
    "#Read & print the partial file\n",
    "   print(reader.read(5))"
   ]
  },
  {
   "cell_type": "code",
   "execution_count": 5,
   "id": "61a3ffc0",
   "metadata": {},
   "outputs": [
    {
     "name": "stdout",
     "output_type": "stream",
     "text": [
      "Country/Region\n",
      "\n"
     ]
    }
   ],
   "source": [
    "with open('sample.txt','r') as reader:\n",
    "#Read & print the first 5 character of line 1 time\n",
    "   print(reader.readline())"
   ]
  },
  {
   "cell_type": "code",
   "execution_count": 6,
   "id": "c85725f9",
   "metadata": {},
   "outputs": [
    {
     "name": "stdout",
     "output_type": "stream",
     "text": [
      "Count\n",
      "ry/Re\n",
      "gion\n",
      "\n",
      "Mainl\n",
      "and C\n"
     ]
    }
   ],
   "source": [
    "with open('sample.txt','r') as reader:\n",
    "#Read & print the first 5 character of line 5 time\n",
    "    print(reader.readline(5))\n",
    "    print(reader.readline(5))\n",
    "    print(reader.readline(5))\n",
    "    print(reader.readline(5))\n",
    "    print(reader.readline(5))"
   ]
  },
  {
   "cell_type": "code",
   "execution_count": 9,
   "id": "f6118a35",
   "metadata": {},
   "outputs": [
    {
     "name": "stdout",
     "output_type": "stream",
     "text": [
      "Country/Region\n",
      "\n"
     ]
    }
   ],
   "source": [
    "with open('sample.txt','r') as reader:\n",
    "    print(reader.readline())"
   ]
  },
  {
   "cell_type": "code",
   "execution_count": 10,
   "id": "0a57644e",
   "metadata": {},
   "outputs": [
    {
     "name": "stdout",
     "output_type": "stream",
     "text": [
      "Country/Region\n",
      "Mainland China\n",
      "Japan\n",
      "Singapore\n",
      "Hong Kong\n",
      "Japan\n",
      "Thailand\n",
      "South Korea\n",
      "Malaysia\n",
      "Taiwan\n",
      "Germany\n",
      "Vietnam\n",
      "France\n",
      "Macau\n",
      "UK\n",
      "United Arab Emirates\n",
      "US\n",
      "Australia\n"
     ]
    }
   ],
   "source": [
    "file = open(\"sample.txt\")\n",
    "data = file.read()\n",
    "print(data)\n",
    "file.close()"
   ]
  },
  {
   "cell_type": "code",
   "execution_count": null,
   "id": "45792657",
   "metadata": {},
   "outputs": [],
   "source": []
  }
 ],
 "metadata": {
  "kernelspec": {
   "display_name": "Python 3",
   "language": "python",
   "name": "python3"
  },
  "language_info": {
   "codemirror_mode": {
    "name": "ipython",
    "version": 3
   },
   "file_extension": ".py",
   "mimetype": "text/x-python",
   "name": "python",
   "nbconvert_exporter": "python",
   "pygments_lexer": "ipython3",
   "version": "3.8.8"
  }
 },
 "nbformat": 4,
 "nbformat_minor": 5
}
